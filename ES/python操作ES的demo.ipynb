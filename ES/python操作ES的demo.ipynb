{
 "cells": [
  {
   "cell_type": "markdown",
   "metadata": {},
   "source": [
    "# 1、离线数据获取"
   ]
  },
  {
   "cell_type": "markdown",
   "metadata": {},
   "source": [
    "## 1.1数据清洗"
   ]
  },
  {
   "cell_type": "code",
   "execution_count": 64,
   "metadata": {},
   "outputs": [
    {
     "name": "stdout",
     "output_type": "stream",
     "text": [
      "25538\n",
      "24795\n"
     ]
    }
   ],
   "source": [
    "sid_message_list_last = []\n",
    "invalid_sid = []\n",
    "for sid_message in sid_message_list:\n",
    "    if len(sid_message.waitersend.value_counts().keys()) == 2:\n",
    "        sid_message_list_last.append(sid_message)\n",
    "    else:\n",
    "        invalid_sid.append(sid_message)\n",
    "print(len(sid_message_list))\n",
    "print(len(sid_message_list_last))"
   ]
  },
  {
   "cell_type": "code",
   "execution_count": 71,
   "metadata": {},
   "outputs": [
    {
     "data": {
      "text/plain": [
       "743"
      ]
     },
     "execution_count": 71,
     "metadata": {},
     "output_type": "execute_result"
    }
   ],
   "source": [
    "len(invalid_sid)"
   ]
  },
  {
   "cell_type": "code",
   "execution_count": null,
   "metadata": {},
   "outputs": [],
   "source": []
  },
  {
   "cell_type": "markdown",
   "metadata": {},
   "source": [
    "# 2、ES数据存储/删除/查询"
   ]
  },
  {
   "cell_type": "code",
   "execution_count": 36,
   "metadata": {},
   "outputs": [],
   "source": [
    "import pandas as pd\n",
    "from elasticsearch import Elasticsearch\n",
    "from elasticsearch import helpers\n",
    "import sys\n",
    "import time\n",
    "from datetime import datetime,timedelta\n",
    "import json"
   ]
  },
  {
   "cell_type": "markdown",
   "metadata": {},
   "source": [
    "## 2.1 ES配置"
   ]
  },
  {
   "cell_type": "code",
   "execution_count": 37,
   "metadata": {},
   "outputs": [],
   "source": [
    "# 集群名称\n",
    "user = \"jiesi-jdos-cs-rec\"\n",
    "# 集群密码\n",
    "pss = \"227DB7650798709B\"\n",
    "# 链接信息\n",
    "hostArr = [\"prod-4-40000-jiesi-jdos-cs-rec.jd.com:40000\",\"prod-1-40000-jiesi-jdos-cs-rec.jd.com:40000\",\"prod-2-40000-jiesi-jdos-cs-rec.jd.com:40000\"]"
   ]
  },
  {
   "cell_type": "code",
   "execution_count": 38,
   "metadata": {},
   "outputs": [],
   "source": [
    "es = Elasticsearch(\n",
    "    hostArr,\n",
    "    http_auth=(user, pss)\n",
    ")"
   ]
  },
  {
   "cell_type": "markdown",
   "metadata": {},
   "source": [
    "## 2.2 创建索引"
   ]
  },
  {
   "cell_type": "code",
   "execution_count": 303,
   "metadata": {},
   "outputs": [],
   "source": [
    "# 索引名称\n",
    "index_name='speechcraft_recommend'"
   ]
  },
  {
   "cell_type": "code",
   "execution_count": 304,
   "metadata": {},
   "outputs": [
    {
     "data": {
      "text/plain": [
       "{'acknowledged': True,\n",
       " 'shards_acknowledged': True,\n",
       " 'index': 'speechcraft_recommend'}"
      ]
     },
     "execution_count": 304,
     "metadata": {},
     "output_type": "execute_result"
    }
   ],
   "source": [
    "mapping = '''\n",
    "{\n",
    "  \"settings\": {\n",
    "        \"index\": {\n",
    "            \"number_of_shards\": \"4\",\n",
    "            \"analysis\": {\n",
    "                \"analyzer\": {\n",
    "                    \"semi_analyzer\": {\n",
    "                        \"pattern\": \";\",\n",
    "                        \"type\": \"pattern\"\n",
    "                    },\n",
    "                    \"comma_analyzer\": {\n",
    "                        \"pattern\": \"@\",\n",
    "                        \"type\": \"pattern\"\n",
    "                    }\n",
    "                }\n",
    "            },\n",
    "            \"number_of_replicas\": \"1\"\n",
    "        }\n",
    "    },\n",
    "  \"mappings\": {\n",
    "    \"properties\": {\n",
    "        \"preMessage\":{\"type\":\"text\",\"analyzer\": \"comma_analyzer\"},\n",
    "        \"lastText\":{\"type\":\"text\",\"analyzer\": \"comma_analyzer\"},\n",
    "        \"preMessageString\":{\"type\":\"text\"},\n",
    "        \"lastTextString\":{\"type\":\"text\"},\n",
    "        \"nextTextString\":{\"type\":\"text\"},\n",
    "        \"waiter\":{\"type\":\"text\"}\n",
    "    }\n",
    "  }\n",
    "}\n",
    "'''\n",
    "es.indices.create(index=index_name, ignore=400, body=mapping)"
   ]
  },
  {
   "cell_type": "code",
   "execution_count": 305,
   "metadata": {},
   "outputs": [],
   "source": [
    "# 分片名称\n",
    "alias_name = 'cs_speechcraft_recommend'"
   ]
  },
  {
   "cell_type": "code",
   "execution_count": 306,
   "metadata": {},
   "outputs": [
    {
     "data": {
      "text/plain": [
       "{'acknowledged': True}"
      ]
     },
     "execution_count": 306,
     "metadata": {},
     "output_type": "execute_result"
    }
   ],
   "source": [
    "es.indices.put_alias(index=index_name, name=alias_name)"
   ]
  },
  {
   "cell_type": "markdown",
   "metadata": {},
   "source": [
    "## 2.3 删除索引"
   ]
  },
  {
   "cell_type": "code",
   "execution_count": 302,
   "metadata": {},
   "outputs": [
    {
     "data": {
      "text/plain": [
       "{'acknowledged': True}"
      ]
     },
     "execution_count": 302,
     "metadata": {},
     "output_type": "execute_result"
    }
   ],
   "source": [
    "es.indices.delete(index=index_name, ignore=[400, 404])"
   ]
  },
  {
   "cell_type": "markdown",
   "metadata": {},
   "source": [
    "## 2.4 单条写入数据"
   ]
  },
  {
   "cell_type": "code",
   "execution_count": 234,
   "metadata": {},
   "outputs": [],
   "source": [
    "import jieba\n",
    "import warnings\n",
    "warnings.filterwarnings(\"ignore\")"
   ]
  },
  {
   "cell_type": "code",
   "execution_count": 235,
   "metadata": {},
   "outputs": [],
   "source": [
    "def process_data_to_db(df):\n",
    "    content_list = list(df.content)\n",
    "    waitersend_list = list(df.waitersend)\n",
    "    sid_len = len(waitersend_list)\n",
    "    pre_list = []\n",
    "    cur_list = []\n",
    "    pre_string_list = []\n",
    "    cur_string_list = []\n",
    "    next_string_list = []\n",
    "    \n",
    "    for i in range(1,sid_len):\n",
    "        if waitersend_list[i] == 'WAITER' and waitersend_list[i-1] != 'WAITER':\n",
    "            pre_list.append('@'.join(list(jieba.cut(''.join(content_list[:i-1])))))\n",
    "            cur_list.append('@'.join(list(jieba.cut(content_list[i-1]))))\n",
    "            pre_string_list.append(';'.join(content_list[:i-1]))\n",
    "            cur_string_list.append(content_list[i-1])\n",
    "            next_string_list.append(content_list[i])\n",
    "    \n",
    "    df_new = pd.DataFrame()\n",
    "    df_new['preMessage'] = pre_list\n",
    "    df_new['lastText'] = cur_list\n",
    "    df_new['preMessageString'] = pre_string_list\n",
    "    df_new['lastTextString'] = cur_string_list\n",
    "    df_new['nextTextString'] = next_string_list\n",
    "    df_new['waiter'] = list(df.waiter)[0]\n",
    "    return df_new"
   ]
  },
  {
   "cell_type": "code",
   "execution_count": 236,
   "metadata": {},
   "outputs": [
    {
     "data": {
      "text/plain": [
       "24795"
      ]
     },
     "execution_count": 236,
     "metadata": {},
     "output_type": "execute_result"
    }
   ],
   "source": [
    "len(sid_message_list_last)"
   ]
  },
  {
   "cell_type": "code",
   "execution_count": 307,
   "metadata": {},
   "outputs": [],
   "source": [
    "df_db_list = []\n",
    "for sid_message in sid_message_list_last:\n",
    "    df_db_list.append(process_data_to_db(sid_message))"
   ]
  },
  {
   "cell_type": "code",
   "execution_count": 308,
   "metadata": {},
   "outputs": [
    {
     "data": {
      "text/plain": [
       "(121411, 6)"
      ]
     },
     "execution_count": 308,
     "metadata": {},
     "output_type": "execute_result"
    }
   ],
   "source": [
    "df_db = pd.concat(df_db_list,axis = 0)\n",
    "df_db.shape"
   ]
  },
  {
   "cell_type": "code",
   "execution_count": 311,
   "metadata": {},
   "outputs": [],
   "source": [
    "df_db = df_db.reset_index(drop=True)"
   ]
  },
  {
   "cell_type": "code",
   "execution_count": 242,
   "metadata": {},
   "outputs": [],
   "source": [
    "# from decimal import *\n",
    "for index, row in df_db.iterrows():\n",
    "    doc = {\n",
    "        \"preMessage\" :row[\"preMessage\"],\n",
    "        \"lastText\" :row[\"lastText\"],\n",
    "        \"preMessageString\" :row[\"preMessageString\"],\n",
    "        \"lastTextString\":row[\"lastTextString\"],\n",
    "        \"nextTextString\" :row[\"nextTextString\"],\n",
    "        \"waiter\" :row[\"waiter\"]\n",
    "    }\n",
    "    res = es.index(index=index_name, id=f\"{index}\", body=doc)"
   ]
  },
  {
   "cell_type": "code",
   "execution_count": 313,
   "metadata": {},
   "outputs": [
    {
     "data": {
      "text/plain": [
       "(121411, 6)"
      ]
     },
     "execution_count": 313,
     "metadata": {},
     "output_type": "execute_result"
    }
   ],
   "source": [
    "df_db.shape"
   ]
  },
  {
   "cell_type": "markdown",
   "metadata": {},
   "source": [
    "## 2.5 批量写入数据"
   ]
  },
  {
   "cell_type": "code",
   "execution_count": 321,
   "metadata": {},
   "outputs": [
    {
     "name": "stdout",
     "output_type": "stream",
     "text": [
      "41\n"
     ]
    }
   ],
   "source": [
    "import json\n",
    "from decimal import *\n",
    "i = 0\n",
    "k = 0\n",
    "actions = []\n",
    "for item in (df_db.iterrows()):\n",
    "    data = {}\n",
    "    i += 1\n",
    "    for col in df_db.columns:\n",
    "        data[col] = item[1][col]\n",
    "    action = {\n",
    "                \"_index\": index_name,\n",
    "                \"_type\": \"_doc\",\n",
    "                \"_id\": item[0],\n",
    "                \"_source\": data\n",
    "              }\n",
    "    \n",
    "    actions.append(action)\n",
    "    if i == 3000:\n",
    "        try:\n",
    "            blk=helpers.bulk(es, actions,request_timeout=20)\n",
    "            i = 0\n",
    "            actions = []\n",
    "            k += 1\n",
    "        except:\n",
    "            traceback.print_exc()\n",
    "            print(action)\n",
    "            pass\n",
    "try:\n",
    "    blk=helpers.bulk(es, actions,request_timeout=20)\n",
    "    k += 1\n",
    "except:\n",
    "    traceback.print_exc()\n",
    "print((k-1)*3000 + i)"
   ]
  },
  {
   "cell_type": "markdown",
   "metadata": {},
   "source": [
    "## 2.6 读取数据"
   ]
  },
  {
   "cell_type": "code",
   "execution_count": null,
   "metadata": {},
   "outputs": [],
   "source": [
    "# term:明确的值\n",
    "# match:知道分词器的存在,模糊查询，只能指定一个字段查询\n",
    "# multi_match：可以指定多个查询字段，同match一样，query会对field进行分词操作，然后再查询\n",
    "# query:\n",
    "# \"_source\":[\"name\",\"interest\"],  //查询结果只展示name和interest字段\n",
    "#   \"_source\":{\n",
    "#     \"includes\":[\"name\",\"interest\"],  // 包含哪些字段\n",
    "#     \"excludes\":[\"company\"]} //排除哪些字段，优先级高于includes\n",
    "\n",
    "# must:必须满足\n",
    "# must_not:必须不满足 不计算相关度分数\n",
    "# should:可能满足"
   ]
  },
  {
   "cell_type": "code",
   "execution_count": 385,
   "metadata": {},
   "outputs": [],
   "source": [
    "query = {\n",
    "    \"query\":\n",
    "    {\n",
    "        \"bool\":\n",
    "        {\n",
    "            \"must\":[],\n",
    "            \"must_not\":[],\n",
    "            \"should\":\n",
    "            [\n",
    "                {\n",
    "                    \"match\":\n",
    "                    {\n",
    "                        \"lastText\":\n",
    "                        {\n",
    "                            \"analyzer\": \"comma_analyzer\",\n",
    "                            \"query\": \"转@人工\",\n",
    "                            \"operator\": \"OR\",\n",
    "                            \"zero_terms_query\": \"NONE\",\n",
    "                            \"minimum_should_match\":1,\n",
    "                            \"boost\": 5\n",
    "                        }\n",
    "                    }\n",
    "                },\n",
    "                {\n",
    "                    \"match\":\n",
    "                    {\n",
    "                        \"preMessage\":\n",
    "                        {\n",
    "                            \"analyzer\": \"comma_analyzer\",\n",
    "                            \"query\": \"我要@转@人工\",\n",
    "                            \"operator\": \"OR\",\n",
    "                            \"zero_terms_query\": \"NONE\",\n",
    "                            \"minimum_should_match\":1,\n",
    "                            \"boost\": 2\n",
    "                        }\n",
    "                    }\n",
    "                }\n",
    "            ]\n",
    "        }\n",
    "    },\n",
    "    \"from\":0,\n",
    "    \"size\":1,\n",
    "    \"sort\":[],\n",
    "    \"aggs\":{},\n",
    "    \"_source\":['nextTextString','waiter']\n",
    "    #\"explain\": True\n",
    "}"
   ]
  },
  {
   "cell_type": "code",
   "execution_count": 386,
   "metadata": {},
   "outputs": [],
   "source": [
    "#es查询\n",
    "res = es.search(index=index_name,body=query,search_type='dfs_query_then_fetch')"
   ]
  },
  {
   "cell_type": "markdown",
   "metadata": {},
   "source": [
    "## 2.7 读取超过10000的数据量"
   ]
  },
  {
   "cell_type": "code",
   "execution_count": 356,
   "metadata": {},
   "outputs": [
    {
     "name": "stdout",
     "output_type": "stream",
     "text": [
      "121411\n",
      "121411\n",
      "耗时：3.5662176609039307\n"
     ]
    }
   ],
   "source": [
    "from elasticsearch import Elasticsearch, helpers\n",
    "import time\n",
    "query = {\"query\":{\"bool\":{\"must\":[{\"match_all\":{}}],\"must_not\":[],\"should\":[]}},\"from\":0,\"size\":100000,\"sort\":[],\"aggs\":{}}\n",
    "start_time = time.time()\n",
    " \n",
    "# helpers.scan()生成的是一个迭代器\n",
    "res = helpers.scan(es, index=index_name, scroll='2m', query=query)\n",
    "save_data = []\n",
    "count = 0\n",
    "for data in res:\n",
    "    save_data.append(data)\n",
    "    count += 1\n",
    "print(len(save_data))\n",
    "print(count)\n",
    "end_time = time.time()\n",
    "\n",
    "print(f\"耗时：{end_time - start_time}\")"
   ]
  },
  {
   "cell_type": "code",
   "execution_count": null,
   "metadata": {},
   "outputs": [],
   "source": []
  }
 ],
 "metadata": {
  "kernelspec": {
   "display_name": "Python3 (PySpark)",
   "language": "python",
   "name": "python3"
  },
  "language_info": {
   "codemirror_mode": {
    "name": "ipython",
    "version": 3
   },
   "file_extension": ".py",
   "mimetype": "text/x-python",
   "name": "python",
   "nbconvert_exporter": "python",
   "pygments_lexer": "ipython3",
   "version": "3.6.7"
  }
 },
 "nbformat": 4,
 "nbformat_minor": 4
}
