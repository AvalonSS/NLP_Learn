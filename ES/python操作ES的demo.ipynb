{
 "cells": [
  {
   "cell_type": "markdown",
   "metadata": {},
   "source": [
    "# 离线数据获取"
   ]
  },
  {
   "cell_type": "code",
   "execution_count": null,
   "metadata": {},
   "outputs": [],
   "source": [
    "import pandas as pd\n",
    "import numpy as np\n",
    "from importlib import reload\n",
    "from sklearn.utils import shuffle\n",
    "from pyspark.sql import SparkSession\n",
    "import gensim\n",
    "from pyspark.sql.types import *\n",
    "from pyspark.sql.types import LongType, ArrayType\n",
    "from pyspark.sql.functions import udf\n",
    "from pyspark.sql import Row\n",
    "import json\n",
    "from time import time\n",
    "import subprocess\n",
    "from pyspark.sql.types import StructType, StructField, LongType, StringType, FloatType\n",
    "import os\n",
    "from pyspark.sql.functions import monotonically_increasing_id\n",
    "import datetime\n",
    "import redis\n",
    "\n",
    "\n",
    "pd.set_option('display.max_columns', None)\n",
    "\n",
    "os.environ['PYSPARK_PYTHON'] = '/usr/local/anaconda3/bin/python3.6'\n",
    "\n",
    "spark = (SparkSession\n",
    "         .builder\n",
    "         .appName('pi')\n",
    "         .enableHiveSupport()\n",
    "         .config('spark.sql.adaptive.enabled', False)\n",
    "         .config('spark.driver.allowMultipleContexts', True)\n",
    "         .config('spark.executor.instances', '500')\n",
    "         .config('spark.executor.memory', '16g')\n",
    "         .config('spark.executor.cores', '5')\n",
    "         .config('spark.driver.memory', '20g')\n",
    "         .config('spark.driver.maxResultSize', '32g')\n",
    "         .config('spark.sql.shuffle.partitions', '1000')\n",
    "         .config('spark.yarn.appMasterEnv.yarn.nodemanager.container-executor.class', 'DockerLinuxContainer')\n",
    "         .config('spark.executorEnv.yarn.nodemanager.container-executor.class', 'DockerLinuxContainer')\n",
    "         .config('spark.yarn.appMasterEnv.yarn.nodemanager.docker-container-executor.image-name',\n",
    "                 'bdp-docker.jd.com:5000/wise_mart_bag:latest')\n",
    "         .config('spark.executorEnv.yarn.nodemanager.docker-container-executor.image-name',\n",
    "                 'bdp-docker.jd.com:5000/wise_mart_bag:latest')\n",
    "         .config('spark.sql.execution.arrow.enabled', 'true')\n",
    "         .config('spark.rpc.message.maxSize', '512')\n",
    "         .config('spark.default.parallelism', '2000')\n",
    "         .config('spark.sql.orc.impl', 'hive')\n",
    "         .config('spark.sql.orc.enableVectorizedReader', 'true')\n",
    "         .config('spark.sql.hive.convertMetastoreOrc', 'true')\n",
    "         .config('spark.jars','hdfs://ns1005/user/mart_cd_shtech_base/geshenyang/spark-tensorflow-connector_2.11-1.10.0.jar')\n",
    "         .getOrCreate())\n",
    "spark.sparkContext.setLogLevel(\"WARN\")\n",
    "print(spark.sparkContext.applicationId)"
   ]
  },
  {
   "cell_type": "code",
   "execution_count": 6,
   "metadata": {},
   "outputs": [],
   "source": [
    "sql = '''\n",
    "SELECT\n",
    "    *,\n",
    "    ROW_NUMBER() over(partition BY sid order by jdqwritetime ASC) AS rns\n",
    "FROM\n",
    "    (\n",
    "        SELECT\n",
    "            t0.erp_acct_no,\n",
    "            t0.entry_dt,\n",
    "            t0.emply_name,\n",
    "            t0.gender_desc,\n",
    "            t0.dept_full_name,\n",
    "            t1.im_num\n",
    "        FROM\n",
    "            (\n",
    "                SELECT\n",
    "                    erp_acct_no,\n",
    "                    entry_dt,\n",
    "                    emply_name,\n",
    "                    gender_desc,\n",
    "                    dept_full_name\n",
    "                FROM\n",
    "                    gdm.gdm_m02_emply_org_da\n",
    "                WHERE\n",
    "                    dt = sysdate( - 1)\n",
    "                    AND emply_status_cd = '1'\n",
    "                    AND work_type_cd = 'J'\n",
    "                    AND entry_dt < '2022-06-01'\n",
    "                    AND (dept_full_name LIKE '京东集团-京东零售-客户体验与服务部-标准业务服务部-标准业务成都交付部-手机通讯在线服务部%' --  145人\n",
    "                    OR dept_full_name LIKE '京东集团-京东零售-客户体验与服务部-标准业务服务部-标准业务宿迁交付部-消费品在线服务部%' -- 405人\n",
    "                    OR dept_full_name LIKE '京东集团-京东零售-客户体验与服务部-标准业务服务部-标准业务成都交付部-家电在线服务部%' --  174人\n",
    "                    OR dept_full_name LIKE '京东集团-京东零售-客户体验与服务部-标准业务服务部-标准业务宿迁交付部-时尚居家在线服务部%' --  150人\n",
    "                    OR dept_full_name LIKE '京东集团-京东零售-客户体验与服务部-标准业务服务部-标准业务成都交付部-电脑办公在线服务部%') --  260人\n",
    "                    -- 共计 1134 人\n",
    "            )\n",
    "            t0\n",
    "        INNER JOIN\n",
    "            (\n",
    "                SELECT\n",
    "                    im_1 AS im_num,\n",
    "                    erp\n",
    "                FROM\n",
    "                    app.mart_dim_agent_information_sys\n",
    "                WHERE\n",
    "                    dt = sysdate( - 1)\n",
    "\n",
    "                UNION ALL\n",
    "\n",
    "                SELECT\n",
    "                    im_2 AS im_num,\n",
    "                    erp\n",
    "                FROM\n",
    "                    app.mart_dim_agent_information_sys\n",
    "                WHERE\n",
    "                    dt = sysdate( - 1)\n",
    "\n",
    "                UNION ALL\n",
    "\n",
    "                SELECT\n",
    "                    im_3 AS im_num,\n",
    "                    erp\n",
    "                FROM\n",
    "                    app.mart_dim_agent_information_sys\n",
    "                WHERE\n",
    "                    dt = sysdate( - 1)\n",
    "            )\n",
    "            t1\n",
    "        ON\n",
    "            t0.erp_acct_no = t1.erp\n",
    "    )\n",
    "    n0\n",
    "INNER JOIN\n",
    "    (\n",
    "        SELECT\n",
    "            chattype, -- 聊天类型\n",
    "            content, -- 聊天内容\n",
    "            customer, -- 顾客pin\n",
    "            -- groupid, -- 技能组id\n",
    "            sid, -- 会话ID\n",
    "            waiter, -- 客服pin\n",
    "            waitersend, -- 是否客服或顾客发送\n",
    "            jdqwritetime -- jdq写入时间 \n",
    "        FROM\n",
    "            app.app_chat_message\n",
    "        WHERE\n",
    "            -- dt = '2022-11-11'\n",
    "            dt = '2023-01-30'\n",
    "            -- dt >= '2022-08-01' \n",
    "            -- AND dt <= '2022-08-31' \n",
    "            -- dt >= '2022-12-20' \n",
    "            -- AND dt <= '2022-12-25' \n",
    "            AND chattype = 'SERVICE' -- SERVICE人工/JIMI机器人\n",
    "            -- AND waitersend = 'WAITER' -- WAITER客服 / CUSTOMER客户\n",
    "            AND type = 'TEXT' -- TEXT/TEMPLATE2\n",
    "            AND content <> ''\n",
    "    )\n",
    "    n1\n",
    "ON\n",
    "    n0.im_num = n1.waiter\n",
    "'''\n",
    "spark_data = spark.sql(sql)"
   ]
  },
  {
   "cell_type": "code",
   "execution_count": 7,
   "metadata": {},
   "outputs": [
    {
     "name": "stderr",
     "output_type": "stream",
     "text": [
      "/software/servers/rexxar/mart_sc/spark/python/pyspark/sql/dataframe.py:2111: UserWarning: toPandas attempted Arrow optimization because 'spark.sql.execution.arrow.enabled' is set to true; however, failed by the reason below:\n",
      "  PyArrow >= 0.8.0 must be installed; however, it was not found.\n",
      "Attempting non-optimization as 'spark.sql.execution.arrow.fallback.enabled' is set to true.\n",
      "  warnings.warn(msg)\n"
     ]
    }
   ],
   "source": [
    "df_data = spark_data.toPandas()"
   ]
  },
  {
   "cell_type": "code",
   "execution_count": 8,
   "metadata": {},
   "outputs": [
    {
     "data": {
      "text/plain": [
       "(597308, 14)"
      ]
     },
     "execution_count": 8,
     "metadata": {},
     "output_type": "execute_result"
    }
   ],
   "source": [
    "df_data.shape"
   ]
  },
  {
   "cell_type": "code",
   "execution_count": 14,
   "metadata": {},
   "outputs": [
    {
     "data": {
      "text/plain": [
       "33950"
      ]
     },
     "execution_count": 14,
     "metadata": {},
     "output_type": "execute_result"
    }
   ],
   "source": [
    "sid_list = list(set(list(df_data.sid)))\n",
    "len(sid_list)"
   ]
  },
  {
   "cell_type": "code",
   "execution_count": 23,
   "metadata": {},
   "outputs": [],
   "source": [
    "# 求分位数函数：\n",
    "import numpy as np"
   ]
  },
  {
   "cell_type": "code",
   "execution_count": 28,
   "metadata": {},
   "outputs": [
    {
     "name": "stdout",
     "output_type": "stream",
     "text": [
      "2.0\n",
      "3.0\n",
      "5.0\n",
      "6.0\n",
      "14.0\n",
      "24.0\n",
      "36.0\n"
     ]
    }
   ],
   "source": [
    "print(np.percentile(list(df_data.sid.value_counts().values),10)) # 一通对话的对话长度的中位数是2\n",
    "print(np.percentile(list(df_data.sid.value_counts().values),15)) # 一通对话的对话长度的中位数是3\n",
    "print(np.percentile(list(df_data.sid.value_counts().values),20)) # 一通对话的对话长度的中位数是5\n",
    "print(np.percentile(list(df_data.sid.value_counts().values),25)) # 一通对话的对话长度的中位数是6\n",
    "print(np.percentile(list(df_data.sid.value_counts().values),50)) # 一通对话的对话长度的中位数是14\n",
    "print(np.percentile(list(df_data.sid.value_counts().values),75)) # 一通对话的对话长度的中位数是24\n",
    "print(np.percentile(list(df_data.sid.value_counts().values),90)) # 一通对话的对话长度的中位数是36"
   ]
  },
  {
   "cell_type": "code",
   "execution_count": 63,
   "metadata": {},
   "outputs": [],
   "source": [
    "sid_message_list = []\n",
    "\n",
    "for sid in sid_list:\n",
    "    temp = df_data[df_data.sid == sid]\n",
    "    temp_len = temp.shape[0]\n",
    "    if temp_len >= 4 and temp_len <= 36:\n",
    "        sid_message_list.append(temp)"
   ]
  },
  {
   "cell_type": "markdown",
   "metadata": {},
   "source": [
    "## 数据清洗"
   ]
  },
  {
   "cell_type": "markdown",
   "metadata": {},
   "source": [
    "* 已实现：只有客户会话的数据剔除。\n",
    "* 未实现：包含订单号的会话剔除。例如：咨询订单号：260508534633 商品ID：100052268905。"
   ]
  },
  {
   "cell_type": "code",
   "execution_count": 64,
   "metadata": {},
   "outputs": [
    {
     "name": "stdout",
     "output_type": "stream",
     "text": [
      "25538\n",
      "24795\n"
     ]
    }
   ],
   "source": [
    "sid_message_list_last = []\n",
    "invalid_sid = []\n",
    "for sid_message in sid_message_list:\n",
    "    if len(sid_message.waitersend.value_counts().keys()) == 2:\n",
    "        sid_message_list_last.append(sid_message)\n",
    "    else:\n",
    "        invalid_sid.append(sid_message)\n",
    "print(len(sid_message_list))\n",
    "print(len(sid_message_list_last))"
   ]
  },
  {
   "cell_type": "code",
   "execution_count": 71,
   "metadata": {},
   "outputs": [
    {
     "data": {
      "text/plain": [
       "743"
      ]
     },
     "execution_count": 71,
     "metadata": {},
     "output_type": "execute_result"
    }
   ],
   "source": [
    "len(invalid_sid)"
   ]
  },
  {
   "cell_type": "code",
   "execution_count": 75,
   "metadata": {},
   "outputs": [
    {
     "data": {
      "text/html": [
       "<div>\n",
       "<style scoped>\n",
       "    .dataframe tbody tr th:only-of-type {\n",
       "        vertical-align: middle;\n",
       "    }\n",
       "\n",
       "    .dataframe tbody tr th {\n",
       "        vertical-align: top;\n",
       "    }\n",
       "\n",
       "    .dataframe thead th {\n",
       "        text-align: right;\n",
       "    }\n",
       "</style>\n",
       "<table border=\"1\" class=\"dataframe\">\n",
       "  <thead>\n",
       "    <tr style=\"text-align: right;\">\n",
       "      <th></th>\n",
       "      <th>erp_acct_no</th>\n",
       "      <th>entry_dt</th>\n",
       "      <th>emply_name</th>\n",
       "      <th>gender_desc</th>\n",
       "      <th>dept_full_name</th>\n",
       "      <th>im_num</th>\n",
       "      <th>chattype</th>\n",
       "      <th>content</th>\n",
       "      <th>customer</th>\n",
       "      <th>sid</th>\n",
       "      <th>waiter</th>\n",
       "      <th>waitersend</th>\n",
       "      <th>jdqwritetime</th>\n",
       "      <th>rns</th>\n",
       "    </tr>\n",
       "  </thead>\n",
       "  <tbody>\n",
       "    <tr>\n",
       "      <th>55036</th>\n",
       "      <td>wangzilong31</td>\n",
       "      <td>2020-04-08</td>\n",
       "      <td>王子龙</td>\n",
       "      <td>男</td>\n",
       "      <td>京东集团-京东零售-客户体验与服务部-标准业务服务部-标准业务宿迁交付部-消费品在线服务部-...</td>\n",
       "      <td>sq-243483-wangzilong</td>\n",
       "      <td>SERVICE</td>\n",
       "      <td>用户发起转人工</td>\n",
       "      <td>小歪kama</td>\n",
       "      <td>8d6afd84-cc9b-4d0b-a00b-c3c349f5b26b</td>\n",
       "      <td>sq-243483-wangzilong</td>\n",
       "      <td>CUSTOMER</td>\n",
       "      <td>2023-01-30 21:29:14.917</td>\n",
       "      <td>1</td>\n",
       "    </tr>\n",
       "    <tr>\n",
       "      <th>55037</th>\n",
       "      <td>wangzilong31</td>\n",
       "      <td>2020-04-08</td>\n",
       "      <td>王子龙</td>\n",
       "      <td>男</td>\n",
       "      <td>京东集团-京东零售-客户体验与服务部-标准业务服务部-标准业务宿迁交付部-消费品在线服务部-...</td>\n",
       "      <td>sq-243483-wangzilong</td>\n",
       "      <td>SERVICE</td>\n",
       "      <td>12个灭火器</td>\n",
       "      <td>小歪kama</td>\n",
       "      <td>8d6afd84-cc9b-4d0b-a00b-c3c349f5b26b</td>\n",
       "      <td>sq-243483-wangzilong</td>\n",
       "      <td>CUSTOMER</td>\n",
       "      <td>2023-01-30 21:30:14.860</td>\n",
       "      <td>2</td>\n",
       "    </tr>\n",
       "    <tr>\n",
       "      <th>55038</th>\n",
       "      <td>wangzilong31</td>\n",
       "      <td>2020-04-08</td>\n",
       "      <td>王子龙</td>\n",
       "      <td>男</td>\n",
       "      <td>京东集团-京东零售-客户体验与服务部-标准业务服务部-标准业务宿迁交付部-消费品在线服务部-...</td>\n",
       "      <td>sq-243483-wangzilong</td>\n",
       "      <td>SERVICE</td>\n",
       "      <td>全给我放菜鸟</td>\n",
       "      <td>小歪kama</td>\n",
       "      <td>8d6afd84-cc9b-4d0b-a00b-c3c349f5b26b</td>\n",
       "      <td>sq-243483-wangzilong</td>\n",
       "      <td>CUSTOMER</td>\n",
       "      <td>2023-01-30 21:30:15.127</td>\n",
       "      <td>3</td>\n",
       "    </tr>\n",
       "    <tr>\n",
       "      <th>55039</th>\n",
       "      <td>wangzilong31</td>\n",
       "      <td>2020-04-08</td>\n",
       "      <td>王子龙</td>\n",
       "      <td>男</td>\n",
       "      <td>京东集团-京东零售-客户体验与服务部-标准业务服务部-标准业务宿迁交付部-消费品在线服务部-...</td>\n",
       "      <td>sq-243483-wangzilong</td>\n",
       "      <td>SERVICE</td>\n",
       "      <td>客服也没有的吗</td>\n",
       "      <td>小歪kama</td>\n",
       "      <td>8d6afd84-cc9b-4d0b-a00b-c3c349f5b26b</td>\n",
       "      <td>sq-243483-wangzilong</td>\n",
       "      <td>CUSTOMER</td>\n",
       "      <td>2023-01-30 21:31:44.969</td>\n",
       "      <td>4</td>\n",
       "    </tr>\n",
       "    <tr>\n",
       "      <th>55040</th>\n",
       "      <td>wangzilong31</td>\n",
       "      <td>2020-04-08</td>\n",
       "      <td>王子龙</td>\n",
       "      <td>男</td>\n",
       "      <td>京东集团-京东零售-客户体验与服务部-标准业务服务部-标准业务宿迁交付部-消费品在线服务部-...</td>\n",
       "      <td>sq-243483-wangzilong</td>\n",
       "      <td>SERVICE</td>\n",
       "      <td>还专属客服</td>\n",
       "      <td>小歪kama</td>\n",
       "      <td>8d6afd84-cc9b-4d0b-a00b-c3c349f5b26b</td>\n",
       "      <td>sq-243483-wangzilong</td>\n",
       "      <td>CUSTOMER</td>\n",
       "      <td>2023-01-30 21:32:14.895</td>\n",
       "      <td>5</td>\n",
       "    </tr>\n",
       "  </tbody>\n",
       "</table>\n",
       "</div>"
      ],
      "text/plain": [
       "        erp_acct_no    entry_dt emply_name gender_desc  \\\n",
       "55036  wangzilong31  2020-04-08        王子龙           男   \n",
       "55037  wangzilong31  2020-04-08        王子龙           男   \n",
       "55038  wangzilong31  2020-04-08        王子龙           男   \n",
       "55039  wangzilong31  2020-04-08        王子龙           男   \n",
       "55040  wangzilong31  2020-04-08        王子龙           男   \n",
       "\n",
       "                                          dept_full_name  \\\n",
       "55036  京东集团-京东零售-客户体验与服务部-标准业务服务部-标准业务宿迁交付部-消费品在线服务部-...   \n",
       "55037  京东集团-京东零售-客户体验与服务部-标准业务服务部-标准业务宿迁交付部-消费品在线服务部-...   \n",
       "55038  京东集团-京东零售-客户体验与服务部-标准业务服务部-标准业务宿迁交付部-消费品在线服务部-...   \n",
       "55039  京东集团-京东零售-客户体验与服务部-标准业务服务部-标准业务宿迁交付部-消费品在线服务部-...   \n",
       "55040  京东集团-京东零售-客户体验与服务部-标准业务服务部-标准业务宿迁交付部-消费品在线服务部-...   \n",
       "\n",
       "                     im_num chattype  content customer  \\\n",
       "55036  sq-243483-wangzilong  SERVICE  用户发起转人工   小歪kama   \n",
       "55037  sq-243483-wangzilong  SERVICE   12个灭火器   小歪kama   \n",
       "55038  sq-243483-wangzilong  SERVICE   全给我放菜鸟   小歪kama   \n",
       "55039  sq-243483-wangzilong  SERVICE  客服也没有的吗   小歪kama   \n",
       "55040  sq-243483-wangzilong  SERVICE    还专属客服   小歪kama   \n",
       "\n",
       "                                        sid                waiter waitersend  \\\n",
       "55036  8d6afd84-cc9b-4d0b-a00b-c3c349f5b26b  sq-243483-wangzilong   CUSTOMER   \n",
       "55037  8d6afd84-cc9b-4d0b-a00b-c3c349f5b26b  sq-243483-wangzilong   CUSTOMER   \n",
       "55038  8d6afd84-cc9b-4d0b-a00b-c3c349f5b26b  sq-243483-wangzilong   CUSTOMER   \n",
       "55039  8d6afd84-cc9b-4d0b-a00b-c3c349f5b26b  sq-243483-wangzilong   CUSTOMER   \n",
       "55040  8d6afd84-cc9b-4d0b-a00b-c3c349f5b26b  sq-243483-wangzilong   CUSTOMER   \n",
       "\n",
       "                  jdqwritetime  rns  \n",
       "55036  2023-01-30 21:29:14.917    1  \n",
       "55037  2023-01-30 21:30:14.860    2  \n",
       "55038  2023-01-30 21:30:15.127    3  \n",
       "55039  2023-01-30 21:31:44.969    4  \n",
       "55040  2023-01-30 21:32:14.895    5  "
      ]
     },
     "execution_count": 75,
     "metadata": {},
     "output_type": "execute_result"
    }
   ],
   "source": [
    "invalid_sid[-100]"
   ]
  },
  {
   "cell_type": "code",
   "execution_count": null,
   "metadata": {},
   "outputs": [],
   "source": []
  },
  {
   "cell_type": "markdown",
   "metadata": {},
   "source": [
    "# ES数据存储/删除/查询"
   ]
  },
  {
   "cell_type": "code",
   "execution_count": 36,
   "metadata": {},
   "outputs": [],
   "source": [
    "import pandas as pd\n",
    "from elasticsearch import Elasticsearch\n",
    "from elasticsearch import helpers\n",
    "import sys\n",
    "import time\n",
    "from datetime import datetime,timedelta\n",
    "import json"
   ]
  },
  {
   "cell_type": "markdown",
   "metadata": {},
   "source": [
    "## ES配置"
   ]
  },
  {
   "cell_type": "code",
   "execution_count": 37,
   "metadata": {},
   "outputs": [],
   "source": [
    "# 集群名称\n",
    "user = \"jiesi-jdos-cs-rec\"\n",
    "# 集群密码\n",
    "pss = \"227DB7650798709B\"\n",
    "# 链接信息\n",
    "hostArr = [\"prod-4-40000-jiesi-jdos-cs-rec.jd.com:40000\",\"prod-1-40000-jiesi-jdos-cs-rec.jd.com:40000\",\"prod-2-40000-jiesi-jdos-cs-rec.jd.com:40000\"]"
   ]
  },
  {
   "cell_type": "code",
   "execution_count": 38,
   "metadata": {},
   "outputs": [],
   "source": [
    "es = Elasticsearch(\n",
    "    hostArr,\n",
    "    http_auth=(user, pss)\n",
    ")"
   ]
  },
  {
   "cell_type": "markdown",
   "metadata": {},
   "source": [
    "## 创建索引"
   ]
  },
  {
   "cell_type": "code",
   "execution_count": 303,
   "metadata": {},
   "outputs": [],
   "source": [
    "# 索引名称\n",
    "index_name='speechcraft_recommend'"
   ]
  },
  {
   "cell_type": "code",
   "execution_count": 304,
   "metadata": {},
   "outputs": [
    {
     "data": {
      "text/plain": [
       "{'acknowledged': True,\n",
       " 'shards_acknowledged': True,\n",
       " 'index': 'speechcraft_recommend'}"
      ]
     },
     "execution_count": 304,
     "metadata": {},
     "output_type": "execute_result"
    }
   ],
   "source": [
    "mapping = '''\n",
    "{\n",
    "  \"settings\": {\n",
    "        \"index\": {\n",
    "            \"number_of_shards\": \"4\",\n",
    "            \"analysis\": {\n",
    "                \"analyzer\": {\n",
    "                    \"semi_analyzer\": {\n",
    "                        \"pattern\": \";\",\n",
    "                        \"type\": \"pattern\"\n",
    "                    },\n",
    "                    \"comma_analyzer\": {\n",
    "                        \"pattern\": \"@\",\n",
    "                        \"type\": \"pattern\"\n",
    "                    }\n",
    "                }\n",
    "            },\n",
    "            \"number_of_replicas\": \"1\"\n",
    "        }\n",
    "    },\n",
    "  \"mappings\": {\n",
    "    \"properties\": {\n",
    "        \"preMessage\":{\"type\":\"text\",\"analyzer\": \"comma_analyzer\"},\n",
    "        \"lastText\":{\"type\":\"text\",\"analyzer\": \"comma_analyzer\"},\n",
    "        \"preMessageString\":{\"type\":\"text\"},\n",
    "        \"lastTextString\":{\"type\":\"text\"},\n",
    "        \"nextTextString\":{\"type\":\"text\"},\n",
    "        \"waiter\":{\"type\":\"text\"}\n",
    "    }\n",
    "  }\n",
    "}\n",
    "'''\n",
    "es.indices.create(index=index_name, ignore=400, body=mapping)"
   ]
  },
  {
   "cell_type": "code",
   "execution_count": 305,
   "metadata": {},
   "outputs": [],
   "source": [
    "# 分片名称\n",
    "alias_name = 'cs_speechcraft_recommend'"
   ]
  },
  {
   "cell_type": "code",
   "execution_count": 306,
   "metadata": {},
   "outputs": [
    {
     "data": {
      "text/plain": [
       "{'acknowledged': True}"
      ]
     },
     "execution_count": 306,
     "metadata": {},
     "output_type": "execute_result"
    }
   ],
   "source": [
    "es.indices.put_alias(index=index_name, name=alias_name)"
   ]
  },
  {
   "cell_type": "markdown",
   "metadata": {},
   "source": [
    "## 删除索引"
   ]
  },
  {
   "cell_type": "code",
   "execution_count": 302,
   "metadata": {},
   "outputs": [
    {
     "data": {
      "text/plain": [
       "{'acknowledged': True}"
      ]
     },
     "execution_count": 302,
     "metadata": {},
     "output_type": "execute_result"
    }
   ],
   "source": [
    "es.indices.delete(index=index_name, ignore=[400, 404])"
   ]
  },
  {
   "cell_type": "markdown",
   "metadata": {},
   "source": [
    "## 单条写入数据"
   ]
  },
  {
   "cell_type": "code",
   "execution_count": 234,
   "metadata": {},
   "outputs": [],
   "source": [
    "import jieba\n",
    "import warnings\n",
    "warnings.filterwarnings(\"ignore\")"
   ]
  },
  {
   "cell_type": "code",
   "execution_count": 235,
   "metadata": {},
   "outputs": [],
   "source": [
    "def process_data_to_db(df):\n",
    "    content_list = list(df.content)\n",
    "    waitersend_list = list(df.waitersend)\n",
    "    sid_len = len(waitersend_list)\n",
    "    pre_list = []\n",
    "    cur_list = []\n",
    "    pre_string_list = []\n",
    "    cur_string_list = []\n",
    "    next_string_list = []\n",
    "    \n",
    "    for i in range(1,sid_len):\n",
    "        if waitersend_list[i] == 'WAITER' and waitersend_list[i-1] != 'WAITER':\n",
    "            pre_list.append('@'.join(list(jieba.cut(''.join(content_list[:i-1])))))\n",
    "            cur_list.append('@'.join(list(jieba.cut(content_list[i-1]))))\n",
    "            pre_string_list.append(';'.join(content_list[:i-1]))\n",
    "            cur_string_list.append(content_list[i-1])\n",
    "            next_string_list.append(content_list[i])\n",
    "    \n",
    "    df_new = pd.DataFrame()\n",
    "    df_new['preMessage'] = pre_list\n",
    "    df_new['lastText'] = cur_list\n",
    "    df_new['preMessageString'] = pre_string_list\n",
    "    df_new['lastTextString'] = cur_string_list\n",
    "    df_new['nextTextString'] = next_string_list\n",
    "    df_new['waiter'] = list(df.waiter)[0]\n",
    "    return df_new"
   ]
  },
  {
   "cell_type": "code",
   "execution_count": 236,
   "metadata": {},
   "outputs": [
    {
     "data": {
      "text/plain": [
       "24795"
      ]
     },
     "execution_count": 236,
     "metadata": {},
     "output_type": "execute_result"
    }
   ],
   "source": [
    "len(sid_message_list_last)"
   ]
  },
  {
   "cell_type": "code",
   "execution_count": 307,
   "metadata": {},
   "outputs": [],
   "source": [
    "df_db_list = []\n",
    "for sid_message in sid_message_list_last:\n",
    "    df_db_list.append(process_data_to_db(sid_message))"
   ]
  },
  {
   "cell_type": "code",
   "execution_count": 308,
   "metadata": {},
   "outputs": [
    {
     "data": {
      "text/plain": [
       "(121411, 6)"
      ]
     },
     "execution_count": 308,
     "metadata": {},
     "output_type": "execute_result"
    }
   ],
   "source": [
    "df_db = pd.concat(df_db_list,axis = 0)\n",
    "df_db.shape"
   ]
  },
  {
   "cell_type": "code",
   "execution_count": 309,
   "metadata": {},
   "outputs": [
    {
     "data": {
      "text/html": [
       "<div>\n",
       "<style scoped>\n",
       "    .dataframe tbody tr th:only-of-type {\n",
       "        vertical-align: middle;\n",
       "    }\n",
       "\n",
       "    .dataframe tbody tr th {\n",
       "        vertical-align: top;\n",
       "    }\n",
       "\n",
       "    .dataframe thead th {\n",
       "        text-align: right;\n",
       "    }\n",
       "</style>\n",
       "<table border=\"1\" class=\"dataframe\">\n",
       "  <thead>\n",
       "    <tr style=\"text-align: right;\">\n",
       "      <th></th>\n",
       "      <th>preMessage</th>\n",
       "      <th>lastText</th>\n",
       "      <th>preMessageString</th>\n",
       "      <th>lastTextString</th>\n",
       "      <th>nextTextString</th>\n",
       "      <th>waiter</th>\n",
       "    </tr>\n",
       "  </thead>\n",
       "  <tbody>\n",
       "    <tr>\n",
       "      <th>0</th>\n",
       "      <td></td>\n",
       "      <td>我要@转@人工</td>\n",
       "      <td></td>\n",
       "      <td>我要转人工</td>\n",
       "      <td>您好，很高兴为您服务，小妹会尽力帮助您的(*^▽^*)</td>\n",
       "      <td>cd-268123-guoyao13</td>\n",
       "    </tr>\n",
       "    <tr>\n",
       "      <th>1</th>\n",
       "      <td>我要@转@人工@您好@，@很@高兴@为您服务@，@小妹@会@尽力@帮助@您@的@(@*@^@...</td>\n",
       "      <td>我@的@问题@还是@没@解决@啊</td>\n",
       "      <td>我要转人工;您好，很高兴为您服务，小妹会尽力帮助您的(*^▽^*)</td>\n",
       "      <td>我的问题还是没解决啊</td>\n",
       "      <td>辛苦您将购物时的订单号提供给小妹一下哦，小妹查询一下解答您的问题哦</td>\n",
       "      <td>cd-268123-guoyao13</td>\n",
       "    </tr>\n",
       "    <tr>\n",
       "      <th>2</th>\n",
       "      <td>我要@转@人工@您好@，@很@高兴@为您服务@，@小妹@会@尽力@帮助@您@的@(@*@^@...</td>\n",
       "      <td>（@258352391623@）</td>\n",
       "      <td>我要转人工;您好，很高兴为您服务，小妹会尽力帮助您的(*^▽^*) ;我的问题还是没解决啊;...</td>\n",
       "      <td>（258352391623）</td>\n",
       "      <td>小妹马上为您查询~</td>\n",
       "      <td>cd-268123-guoyao13</td>\n",
       "    </tr>\n",
       "    <tr>\n",
       "      <th>3</th>\n",
       "      <td>我要@转@人工@您好@，@很@高兴@为您服务@，@小妹@会@尽力@帮助@您@的@(@*@^@...</td>\n",
       "      <td>对</td>\n",
       "      <td>我要转人工;您好，很高兴为您服务，小妹会尽力帮助您的(*^▽^*) ;我的问题还是没解决啊;...</td>\n",
       "      <td>对</td>\n",
       "      <td>是保温杯吗</td>\n",
       "      <td>cd-268123-guoyao13</td>\n",
       "    </tr>\n",
       "    <tr>\n",
       "      <th>4</th>\n",
       "      <td>我要@转@人工@您好@，@很@高兴@为您服务@，@小妹@会@尽力@帮助@您@的@(@*@^@...</td>\n",
       "      <td>嗯</td>\n",
       "      <td>我要转人工;您好，很高兴为您服务，小妹会尽力帮助您的(*^▽^*) ;我的问题还是没解决啊;...</td>\n",
       "      <td>嗯</td>\n",
       "      <td>有联系店铺客服晒单登记了吗</td>\n",
       "      <td>cd-268123-guoyao13</td>\n",
       "    </tr>\n",
       "  </tbody>\n",
       "</table>\n",
       "</div>"
      ],
      "text/plain": [
       "                                          preMessage          lastText  \\\n",
       "0                                                              我要@转@人工   \n",
       "1  我要@转@人工@您好@，@很@高兴@为您服务@，@小妹@会@尽力@帮助@您@的@(@*@^@...  我@的@问题@还是@没@解决@啊   \n",
       "2  我要@转@人工@您好@，@很@高兴@为您服务@，@小妹@会@尽力@帮助@您@的@(@*@^@...  （@258352391623@）   \n",
       "3  我要@转@人工@您好@，@很@高兴@为您服务@，@小妹@会@尽力@帮助@您@的@(@*@^@...                 对   \n",
       "4  我要@转@人工@您好@，@很@高兴@为您服务@，@小妹@会@尽力@帮助@您@的@(@*@^@...                 嗯   \n",
       "\n",
       "                                    preMessageString  lastTextString  \\\n",
       "0                                                              我要转人工   \n",
       "1                 我要转人工;您好，很高兴为您服务，小妹会尽力帮助您的(*^▽^*)       我的问题还是没解决啊   \n",
       "2  我要转人工;您好，很高兴为您服务，小妹会尽力帮助您的(*^▽^*) ;我的问题还是没解决啊;...  （258352391623）   \n",
       "3  我要转人工;您好，很高兴为您服务，小妹会尽力帮助您的(*^▽^*) ;我的问题还是没解决啊;...               对   \n",
       "4  我要转人工;您好，很高兴为您服务，小妹会尽力帮助您的(*^▽^*) ;我的问题还是没解决啊;...               嗯   \n",
       "\n",
       "                       nextTextString              waiter  \n",
       "0        您好，很高兴为您服务，小妹会尽力帮助您的(*^▽^*)   cd-268123-guoyao13  \n",
       "1  辛苦您将购物时的订单号提供给小妹一下哦，小妹查询一下解答您的问题哦   cd-268123-guoyao13  \n",
       "2                          小妹马上为您查询~   cd-268123-guoyao13  \n",
       "3                              是保温杯吗   cd-268123-guoyao13  \n",
       "4                       有联系店铺客服晒单登记了吗  cd-268123-guoyao13  "
      ]
     },
     "execution_count": 309,
     "metadata": {},
     "output_type": "execute_result"
    }
   ],
   "source": [
    "df_db.head()"
   ]
  },
  {
   "cell_type": "code",
   "execution_count": 310,
   "metadata": {},
   "outputs": [
    {
     "data": {
      "text/plain": [
       "0             我要@转@人工\n",
       "1    我@的@问题@还是@没@解决@啊\n",
       "2    （@258352391623@）\n",
       "3                   对\n",
       "4                   嗯\n",
       "Name: lastText, dtype: object"
      ]
     },
     "execution_count": 310,
     "metadata": {},
     "output_type": "execute_result"
    }
   ],
   "source": [
    "df_db.head().lastText"
   ]
  },
  {
   "cell_type": "code",
   "execution_count": 311,
   "metadata": {},
   "outputs": [],
   "source": [
    "df_db = df_db.reset_index(drop=True)"
   ]
  },
  {
   "cell_type": "code",
   "execution_count": 242,
   "metadata": {},
   "outputs": [],
   "source": [
    "# from decimal import *\n",
    "for index, row in df_db.iterrows():\n",
    "    doc = {\n",
    "        \"preMessage\" :row[\"preMessage\"],\n",
    "        \"lastText\" :row[\"lastText\"],\n",
    "        \"preMessageString\" :row[\"preMessageString\"],\n",
    "        \"lastTextString\":row[\"lastTextString\"],\n",
    "        \"nextTextString\" :row[\"nextTextString\"],\n",
    "        \"waiter\" :row[\"waiter\"]\n",
    "    }\n",
    "    res = es.index(index=index_name, id=f\"{index}\", body=doc)"
   ]
  },
  {
   "cell_type": "code",
   "execution_count": 313,
   "metadata": {},
   "outputs": [
    {
     "data": {
      "text/plain": [
       "(121411, 6)"
      ]
     },
     "execution_count": 313,
     "metadata": {},
     "output_type": "execute_result"
    }
   ],
   "source": [
    "df_db.shape"
   ]
  },
  {
   "cell_type": "markdown",
   "metadata": {},
   "source": [
    "## 批量写入数据"
   ]
  },
  {
   "cell_type": "code",
   "execution_count": 321,
   "metadata": {},
   "outputs": [
    {
     "name": "stdout",
     "output_type": "stream",
     "text": [
      "41\n"
     ]
    }
   ],
   "source": [
    "import json\n",
    "from decimal import *\n",
    "i = 0\n",
    "k = 0\n",
    "actions = []\n",
    "for item in (df_db.iterrows()):\n",
    "    data = {}\n",
    "    i += 1\n",
    "    for col in df_db.columns:\n",
    "        data[col] = item[1][col]\n",
    "    action = {\n",
    "                \"_index\": index_name,\n",
    "                \"_type\": \"_doc\",\n",
    "                \"_id\": item[0],\n",
    "                \"_source\": data\n",
    "              }\n",
    "    \n",
    "    actions.append(action)\n",
    "    if i == 3000:\n",
    "        try:\n",
    "            blk=helpers.bulk(es, actions,request_timeout=20)\n",
    "            i = 0\n",
    "            actions = []\n",
    "            k += 1\n",
    "        except:\n",
    "            traceback.print_exc()\n",
    "            print(action)\n",
    "            pass\n",
    "try:\n",
    "    blk=helpers.bulk(es, actions,request_timeout=20)\n",
    "    k += 1\n",
    "except:\n",
    "    traceback.print_exc()\n",
    "print((k-1)*3000 + i)"
   ]
  },
  {
   "cell_type": "markdown",
   "metadata": {},
   "source": [
    "## 读取数据"
   ]
  },
  {
   "cell_type": "code",
   "execution_count": null,
   "metadata": {},
   "outputs": [],
   "source": [
    "# term:明确的值\n",
    "# match:知道分词器的存在,模糊查询，只能指定一个字段查询\n",
    "# multi_match：可以指定多个查询字段，同match一样，query会对field进行分词操作，然后再查询\n",
    "# query:\n",
    "# \"_source\":[\"name\",\"interest\"],  //查询结果只展示name和interest字段\n",
    "#   \"_source\":{\n",
    "#     \"includes\":[\"name\",\"interest\"],  // 包含哪些字段\n",
    "#     \"excludes\":[\"company\"]} //排除哪些字段，优先级高于includes\n",
    "\n",
    "# must:必须满足\n",
    "# must_not:必须不满足 不计算相关度分数\n",
    "# should:可能满足"
   ]
  },
  {
   "cell_type": "code",
   "execution_count": 385,
   "metadata": {},
   "outputs": [],
   "source": [
    "query = {\n",
    "    \"query\":\n",
    "    {\n",
    "        \"bool\":\n",
    "        {\n",
    "            \"must\":[],\n",
    "            \"must_not\":[],\n",
    "            \"should\":\n",
    "            [\n",
    "                {\n",
    "                    \"match\":\n",
    "                    {\n",
    "                        \"lastText\":\n",
    "                        {\n",
    "                            \"analyzer\": \"comma_analyzer\",\n",
    "                            \"query\": \"转@人工\",\n",
    "                            \"operator\": \"OR\",\n",
    "                            \"zero_terms_query\": \"NONE\",\n",
    "                            \"minimum_should_match\":1,\n",
    "                            \"boost\": 5\n",
    "                        }\n",
    "                    }\n",
    "                },\n",
    "                {\n",
    "                    \"match\":\n",
    "                    {\n",
    "                        \"preMessage\":\n",
    "                        {\n",
    "                            \"analyzer\": \"comma_analyzer\",\n",
    "                            \"query\": \"我要@转@人工\",\n",
    "                            \"operator\": \"OR\",\n",
    "                            \"zero_terms_query\": \"NONE\",\n",
    "                            \"minimum_should_match\":1,\n",
    "                            \"boost\": 2\n",
    "                        }\n",
    "                    }\n",
    "                }\n",
    "            ]\n",
    "        }\n",
    "    },\n",
    "    \"from\":0,\n",
    "    \"size\":1,\n",
    "    \"sort\":[],\n",
    "    \"aggs\":{},\n",
    "    \"_source\":['nextTextString','waiter']\n",
    "    #\"explain\": True\n",
    "}"
   ]
  },
  {
   "cell_type": "code",
   "execution_count": 386,
   "metadata": {},
   "outputs": [],
   "source": [
    "#es查询\n",
    "res = es.search(index=index_name,body=query,search_type='dfs_query_then_fetch')"
   ]
  },
  {
   "cell_type": "code",
   "execution_count": 387,
   "metadata": {},
   "outputs": [
    {
     "name": "stdout",
     "output_type": "stream",
     "text": [
      "1\n"
     ]
    },
    {
     "data": {
      "text/plain": [
       "[{'_index': 'speechcraft_recommend',\n",
       "  '_type': '_doc',\n",
       "  '_id': '116000',\n",
       "  '_score': 43.383366,\n",
       "  '_source': {'nextTextString': '您好，在的', 'waiter': 'sq-220706-yuzhen41'}}]"
      ]
     },
     "execution_count": 387,
     "metadata": {},
     "output_type": "execute_result"
    }
   ],
   "source": [
    "print(len(res['hits']['hits']))\n",
    "res['hits']['hits']"
   ]
  },
  {
   "cell_type": "code",
   "execution_count": null,
   "metadata": {},
   "outputs": [],
   "source": [
    "[{'_index': 'speechcraft_recommend',\n",
    "  '_type': '_doc',\n",
    "  '_id': '116000',\n",
    "  '_score': 43.383366,\n",
    "  '_source': {'nextTextString': '您好，在的', 'waiter': 'sq-220706-yuzhen41'}}]"
   ]
  },
  {
   "cell_type": "markdown",
   "metadata": {},
   "source": [
    "## 读取超过10000的数据量"
   ]
  },
  {
   "cell_type": "code",
   "execution_count": 356,
   "metadata": {},
   "outputs": [
    {
     "name": "stdout",
     "output_type": "stream",
     "text": [
      "121411\n",
      "121411\n",
      "耗时：3.5662176609039307\n"
     ]
    }
   ],
   "source": [
    "from elasticsearch import Elasticsearch, helpers\n",
    "import time\n",
    "query = {\"query\":{\"bool\":{\"must\":[{\"match_all\":{}}],\"must_not\":[],\"should\":[]}},\"from\":0,\"size\":100000,\"sort\":[],\"aggs\":{}}\n",
    "start_time = time.time()\n",
    " \n",
    "# helpers.scan()生成的是一个迭代器\n",
    "res = helpers.scan(es, index=index_name, scroll='2m', query=query)\n",
    "save_data = []\n",
    "count = 0\n",
    "for data in res:\n",
    "    save_data.append(data)\n",
    "    count += 1\n",
    "print(len(save_data))\n",
    "print(count)\n",
    "end_time = time.time()\n",
    "\n",
    "print(f\"耗时：{end_time - start_time}\")"
   ]
  },
  {
   "cell_type": "code",
   "execution_count": null,
   "metadata": {},
   "outputs": [],
   "source": []
  }
 ],
 "metadata": {
  "kernelspec": {
   "display_name": "Python3 (PySpark)",
   "language": "python",
   "name": "python3"
  },
  "language_info": {
   "codemirror_mode": {
    "name": "ipython",
    "version": 3
   },
   "file_extension": ".py",
   "mimetype": "text/x-python",
   "name": "python",
   "nbconvert_exporter": "python",
   "pygments_lexer": "ipython3",
   "version": "3.6.7"
  }
 },
 "nbformat": 4,
 "nbformat_minor": 4
}
