{
 "cells": [
  {
   "cell_type": "code",
   "execution_count": 1,
   "metadata": {},
   "outputs": [],
   "source": [
    "import pandas as pd\n",
    "import os\n",
    "import json\n",
    "import numpy as np"
   ]
  },
  {
   "cell_type": "code",
   "execution_count": 2,
   "metadata": {},
   "outputs": [],
   "source": [
    "\n",
    "train_path = \"./PartC/train.csv\"\n",
    "val_path = \"./PartC/val.csv\"\n",
    "test_path = \"./PartC/test.csv\"\n",
    "\n",
    "zh800_g2a_path = \"./PartC/高2_a_0401.xlsx\"\n",
    "zh800_g2b_path = \"./PartC/高2_b_0401.xlsx\"\n",
    "zh800_g3a_path = \"./PartC/高3_a_0401.xlsx\"\n",
    "zh800_g3b_path = \"./PartC/高3_b_0401.xlsx\""
   ]
  },
  {
   "cell_type": "code",
   "execution_count": 3,
   "metadata": {},
   "outputs": [],
   "source": [
    "train = pd.read_csv(train_path)\n",
    "val = pd.read_csv(val_path)\n",
    "test = pd.read_csv(test_path)"
   ]
  },
  {
   "cell_type": "code",
   "execution_count": 12,
   "metadata": {},
   "outputs": [],
   "source": [
    "'''\n",
    "\n",
    "'''\n",
    "zh800_g2a = pd.read_excel(zh800_g2a_path)\n",
    "zh800_g2b = pd.read_excel(zh800_g2b_path)\n",
    "zh800_g3a = pd.read_excel(zh800_g3a_path)\n",
    "zh800_g3b = pd.read_excel(zh800_g3b_path)"
   ]
  },
  {
   "cell_type": "code",
   "execution_count": 4,
   "metadata": {},
   "outputs": [
    {
     "name": "stdout",
     "output_type": "stream",
     "text": [
      "(12730, 32)\n",
      "(1406, 32)\n",
      "(578, 32)\n"
     ]
    }
   ],
   "source": [
    "print(train.shape)\n",
    "print(val.shape)\n",
    "print(test.shape)"
   ]
  },
  {
   "cell_type": "code",
   "execution_count": 13,
   "metadata": {},
   "outputs": [
    {
     "name": "stdout",
     "output_type": "stream",
     "text": [
      "(184, 29)\n",
      "(180, 29)\n",
      "(181, 29)\n",
      "(178, 29)\n"
     ]
    }
   ],
   "source": [
    "'''\n",
    "\n",
    "'''\n",
    "print(zh800_g2a.shape)\n",
    "print(zh800_g2b.shape)\n",
    "print(zh800_g3a.shape)\n",
    "print(zh800_g3b.shape)"
   ]
  },
  {
   "cell_type": "code",
   "execution_count": null,
   "metadata": {},
   "outputs": [],
   "source": []
  },
  {
   "cell_type": "code",
   "execution_count": 5,
   "metadata": {},
   "outputs": [
    {
     "name": "stderr",
     "output_type": "stream",
     "text": [
      "C:\\Users\\86153\\AppData\\Local\\Continuum\\anaconda3\\lib\\site-packages\\ipykernel_launcher.py:1: FutureWarning: convert_objects is deprecated.  To re-infer data dtypes for object columns, use Series.infer_objects()\n",
      "For all other conversions use the data-type specific converters pd.to_datetime, pd.to_timedelta and pd.to_numeric.\n",
      "  \"\"\"Entry point for launching an IPython kernel.\n"
     ]
    }
   ],
   "source": [
    "train['复评分'] = train['复评分'].convert_objects(convert_numeric=True)\n",
    "train[\"复评分\"].isnull().value_counts()\n",
    "train[\"复评分\"] = train[\"复评分\"].fillna(\"aaa\")\n",
    "train = train.drop(train[(train.复评分==\"aaa\")].index.tolist())\n",
    "train = train.drop(train[(train.复评分>24)].index.tolist())\n",
    "train[\"复评分\"] = train[\"复评分\"].astype(\"float\")"
   ]
  },
  {
   "cell_type": "code",
   "execution_count": 6,
   "metadata": {},
   "outputs": [
    {
     "name": "stdout",
     "output_type": "stream",
     "text": [
      "(12727, 32)\n",
      "(1406, 32)\n",
      "(578, 32)\n"
     ]
    }
   ],
   "source": [
    "\n",
    "print(train.shape)\n",
    "print(val.shape)\n",
    "print(test.shape)\n"
   ]
  },
  {
   "cell_type": "code",
   "execution_count": 7,
   "metadata": {},
   "outputs": [],
   "source": [
    "\n",
    "train[\"text\"] = train[\"text\"].fillna(\"i\")\n",
    "val[\"text\"] = val[\"text\"].fillna(\"i\")\n",
    "test[\"text\"] = test[\"text\"].fillna(\"i\")\n"
   ]
  },
  {
   "cell_type": "code",
   "execution_count": 8,
   "metadata": {},
   "outputs": [],
   "source": [
    "train = train[[\"id\",\"text\",\"yw\",\"ckda\",\"复评分\"]]\n",
    "val = val[[\"id\",\"text\",\"yw\",\"ckda\",\"复评分\"]]\n",
    "test = test[[\"id\",\"text\",\"yw\",\"ckda\",\"复评分\"]]"
   ]
  },
  {
   "cell_type": "code",
   "execution_count": 21,
   "metadata": {},
   "outputs": [
    {
     "name": "stdout",
     "output_type": "stream",
     "text": [
      "(184, 29)\n",
      "(180, 29)\n",
      "(181, 29)\n",
      "(178, 29)\n"
     ]
    }
   ],
   "source": [
    "'''\n",
    "train = train[[\"id\",\"text\",\"yw\",\"ckda\",\"复评分\"]]\n",
    "val = val[[\"id\",\"text\",\"yw\",\"ckda\",\"复评分\"]]\n",
    "test = test[[\"id\",\"text\",\"yw\",\"ckda\",\"复评分\"]]\n",
    "'''\n",
    "print(zh800_g2a.shape)\n",
    "print(zh800_g2b.shape)\n",
    "print(zh800_g3a.shape)\n",
    "print(zh800_g3b.shape)\n",
    "zh800_g2a = zh800_g2a[[\"id\",\"text\",\"yw\",\"ckda\",\"复评分\"]]\n",
    "zh800_g2b = zh800_g2b[[\"id\",\"text\",\"yw\",\"ckda\",\"复评分\"]]\n",
    "zh800_g3a = zh800_g3a[[\"id\",\"text\",\"yw\",\"ckda\",\"复评分\"]]\n",
    "zh800_g3b = zh800_g3b[[\"id\",\"text\",\"yw\",\"ckda\",\"复评分\"]]"
   ]
  },
  {
   "cell_type": "code",
   "execution_count": 22,
   "metadata": {},
   "outputs": [],
   "source": [
    "zh800_g2a[\"复评分\"] = np.round(zh800_g2a[\"复评分\"])\n",
    "zh800_g2b[\"复评分\"] = np.round(zh800_g2b[\"复评分\"])\n",
    "zh800_g3a[\"复评分\"] = np.round(zh800_g3a[\"复评分\"])\n",
    "zh800_g3b[\"复评分\"] = np.round(zh800_g3b[\"复评分\"])"
   ]
  },
  {
   "cell_type": "code",
   "execution_count": 23,
   "metadata": {},
   "outputs": [
    {
     "name": "stdout",
     "output_type": "stream",
     "text": [
      "(368, 4)\n"
     ]
    }
   ],
   "source": [
    "train_pd = pd.DataFrame()\n",
    "\n",
    "for index, row in zh800_g2a.iterrows():\n",
    "    # 分别遍历每行的两个句子，并进行分词处理\n",
    "    train_pd.at[2*index, \"location\"] = row[\"id\"] \n",
    "    train_pd.at[2*index, \"result\"] = row[\"text\"].lower()\n",
    "    train_pd.at[2*index, \"fw\"] = row[\"yw\"].lower()\n",
    "    train_pd.at[2*index, \"label\"] = row[\"复评分\"]  \n",
    "    \n",
    "    train_pd.at[2*index+1, \"location\"] = row[\"id\"] \n",
    "    train_pd.at[2*index+1, \"result\"] = row[\"text\"].lower() \n",
    "    train_pd.at[2*index+1, \"fw\"] = row[\"ckda\"].lower()\n",
    "    train_pd.at[2*index+1, \"label\"] = row[\"复评分\"]\n",
    "print(train_pd.shape)\n",
    "train_pd.to_csv(\"PartC/test_data_g2a.csv\", index=False, columns=['location','result','fw', 'label'])"
   ]
  },
  {
   "cell_type": "code",
   "execution_count": 24,
   "metadata": {},
   "outputs": [
    {
     "name": "stdout",
     "output_type": "stream",
     "text": [
      "(360, 4)\n"
     ]
    }
   ],
   "source": [
    "train_pd = pd.DataFrame()\n",
    "\n",
    "for index, row in zh800_g2b.iterrows():\n",
    "    # 分别遍历每行的两个句子，并进行分词处理\n",
    "    train_pd.at[2*index, \"location\"] = row[\"id\"] \n",
    "    train_pd.at[2*index, \"result\"] = row[\"text\"].lower()\n",
    "    train_pd.at[2*index, \"fw\"] = row[\"yw\"].lower()\n",
    "    train_pd.at[2*index, \"label\"] = row[\"复评分\"]  \n",
    "    \n",
    "    train_pd.at[2*index+1, \"location\"] = row[\"id\"] \n",
    "    train_pd.at[2*index+1, \"result\"] = row[\"text\"].lower() \n",
    "    train_pd.at[2*index+1, \"fw\"] = row[\"ckda\"].lower()\n",
    "    train_pd.at[2*index+1, \"label\"] = row[\"复评分\"]\n",
    "print(train_pd.shape)\n",
    "train_pd.to_csv(\"PartC/test_data_g2b.csv\", index=False, columns=['location','result','fw', 'label'])"
   ]
  },
  {
   "cell_type": "code",
   "execution_count": 25,
   "metadata": {},
   "outputs": [
    {
     "name": "stdout",
     "output_type": "stream",
     "text": [
      "(362, 4)\n"
     ]
    }
   ],
   "source": [
    "train_pd = pd.DataFrame()\n",
    "\n",
    "for index, row in zh800_g3a.iterrows():\n",
    "    # 分别遍历每行的两个句子，并进行分词处理\n",
    "    train_pd.at[2*index, \"location\"] = row[\"id\"] \n",
    "    train_pd.at[2*index, \"result\"] = row[\"text\"].lower()\n",
    "    train_pd.at[2*index, \"fw\"] = row[\"yw\"].lower()\n",
    "    train_pd.at[2*index, \"label\"] = row[\"复评分\"]  \n",
    "    \n",
    "    train_pd.at[2*index+1, \"location\"] = row[\"id\"] \n",
    "    train_pd.at[2*index+1, \"result\"] = row[\"text\"].lower() \n",
    "    train_pd.at[2*index+1, \"fw\"] = row[\"ckda\"].lower()\n",
    "    train_pd.at[2*index+1, \"label\"] = row[\"复评分\"]\n",
    "print(train_pd.shape)\n",
    "train_pd.to_csv(\"PartC/test_data_g3a.csv\", index=False, columns=['location','result','fw', 'label'])"
   ]
  },
  {
   "cell_type": "code",
   "execution_count": 26,
   "metadata": {},
   "outputs": [
    {
     "name": "stdout",
     "output_type": "stream",
     "text": [
      "(356, 4)\n"
     ]
    }
   ],
   "source": [
    "train_pd = pd.DataFrame()\n",
    "\n",
    "for index, row in zh800_g3b.iterrows():\n",
    "    # 分别遍历每行的两个句子，并进行分词处理\n",
    "    train_pd.at[2*index, \"location\"] = row[\"id\"] \n",
    "    train_pd.at[2*index, \"result\"] = row[\"text\"].lower()\n",
    "    train_pd.at[2*index, \"fw\"] = row[\"yw\"].lower()\n",
    "    train_pd.at[2*index, \"label\"] = row[\"复评分\"]  \n",
    "    \n",
    "    train_pd.at[2*index+1, \"location\"] = row[\"id\"] \n",
    "    train_pd.at[2*index+1, \"result\"] = row[\"text\"].lower() \n",
    "    train_pd.at[2*index+1, \"fw\"] = row[\"ckda\"].lower()\n",
    "    train_pd.at[2*index+1, \"label\"] = row[\"复评分\"]\n",
    "print(train_pd.shape)\n",
    "train_pd.to_csv(\"PartC/test_data_g3b.csv\", index=False, columns=['location','result','fw', 'label'])"
   ]
  },
  {
   "cell_type": "code",
   "execution_count": null,
   "metadata": {},
   "outputs": [],
   "source": []
  },
  {
   "cell_type": "code",
   "execution_count": 9,
   "metadata": {},
   "outputs": [],
   "source": [
    "train_pd = pd.DataFrame()\n",
    "\n",
    "for index, row in train.iterrows():\n",
    "    # 分别遍历每行的两个句子，并进行分词处理\n",
    "    train_pd.at[2*index, \"location\"] = row[\"id\"] \n",
    "    train_pd.at[2*index, \"result\"] = row[\"text\"].lower()\n",
    "    train_pd.at[2*index, \"fw\"] = row[\"yw\"].lower()\n",
    "    train_pd.at[2*index, \"label\"] = row[\"复评分\"]  \n",
    "    \n",
    "    train_pd.at[2*index+1, \"location\"] = row[\"id\"] \n",
    "    train_pd.at[2*index+1, \"result\"] = row[\"text\"].lower() \n",
    "    train_pd.at[2*index+1, \"fw\"] = row[\"ckda\"].lower()\n",
    "    train_pd.at[2*index+1, \"label\"] = row[\"复评分\"]"
   ]
  },
  {
   "cell_type": "code",
   "execution_count": 10,
   "metadata": {},
   "outputs": [],
   "source": [
    "train_pd.to_csv(\"PartC/train_data.csv\", index=False, columns=['location','result','fw', 'label'])"
   ]
  },
  {
   "cell_type": "code",
   "execution_count": 11,
   "metadata": {},
   "outputs": [],
   "source": [
    "val_pd = pd.DataFrame()\n",
    "\n",
    "for index, row in val.iterrows():\n",
    "    # 分别遍历每行的两个句子，并进行分词处理\n",
    "    val_pd.at[2*index, \"location\"] = row[\"id\"] \n",
    "    val_pd.at[2*index, \"result\"] = row[\"text\"].lower()\n",
    "    val_pd.at[2*index, \"fw\"] = row[\"yw\"].lower()\n",
    "    val_pd.at[2*index, \"label\"] = row[\"复评分\"]  \n",
    "    \n",
    "    val_pd.at[2*index+1, \"location\"] = row[\"id\"] \n",
    "    val_pd.at[2*index+1, \"result\"] = row[\"text\"].lower() \n",
    "    val_pd.at[2*index+1, \"fw\"] = row[\"ckda\"].lower()\n",
    "    val_pd.at[2*index+1, \"label\"] = row[\"复评分\"]"
   ]
  },
  {
   "cell_type": "code",
   "execution_count": 12,
   "metadata": {},
   "outputs": [],
   "source": [
    "val_pd.to_csv(\"PartC/dev_data.csv\", index=False, columns=[ 'location','result','fw','label'])"
   ]
  },
  {
   "cell_type": "code",
   "execution_count": 13,
   "metadata": {},
   "outputs": [],
   "source": [
    "test_pd = pd.DataFrame()\n",
    "\n",
    "for index, row in test.iterrows():\n",
    "    # 分别遍历每行的两个句子，并进行分词处理\n",
    "    test_pd.at[2*index, \"location\"] = row[\"id\"] \n",
    "    test_pd.at[2*index, \"result\"] = row[\"text\"].lower()\n",
    "    test_pd.at[2*index, \"fw\"] = row[\"yw\"].lower()\n",
    "    test_pd.at[2*index, \"label\"] = row[\"复评分\"]  \n",
    "    \n",
    "    test_pd.at[2*index+1, \"location\"] = row[\"id\"] \n",
    "    test_pd.at[2*index+1, \"result\"] = row[\"text\"].lower() \n",
    "    test_pd.at[2*index+1, \"fw\"] = row[\"ckda\"].lower()\n",
    "    test_pd.at[2*index+1, \"label\"] = row[\"复评分\"]"
   ]
  },
  {
   "cell_type": "code",
   "execution_count": 14,
   "metadata": {},
   "outputs": [],
   "source": [
    "test_pd.to_csv(\"PartC/test_data.csv\", index=False, columns=[ 'location','result','fw','label'])"
   ]
  },
  {
   "cell_type": "code",
   "execution_count": 15,
   "metadata": {},
   "outputs": [
    {
     "data": {
      "text/plain": [
       "(25454, 4)"
      ]
     },
     "execution_count": 15,
     "metadata": {},
     "output_type": "execute_result"
    }
   ],
   "source": [
    "train_pd.shape"
   ]
  },
  {
   "cell_type": "code",
   "execution_count": null,
   "metadata": {},
   "outputs": [],
   "source": []
  }
 ],
 "metadata": {
  "kernelspec": {
   "display_name": "Python 3",
   "language": "python",
   "name": "python3"
  },
  "language_info": {
   "codemirror_mode": {
    "name": "ipython",
    "version": 3
   },
   "file_extension": ".py",
   "mimetype": "text/x-python",
   "name": "python",
   "nbconvert_exporter": "python",
   "pygments_lexer": "ipython3",
   "version": "3.7.1"
  }
 },
 "nbformat": 4,
 "nbformat_minor": 2
}
