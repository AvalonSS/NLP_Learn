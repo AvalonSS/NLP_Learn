{
 "cells": [
  {
   "cell_type": "code",
   "execution_count": 1,
   "metadata": {},
   "outputs": [],
   "source": [
    "import numpy as np \n",
    "import pandas as pd\n",
    "import matplotlib.pyplot as plt\n",
    "from scipy.optimize import linprog\n",
    "from sklearn.metrics.pairwise import cosine_similarity"
   ]
  },
  {
   "cell_type": "code",
   "execution_count": 2,
   "metadata": {},
   "outputs": [],
   "source": [
    "def get_weight(word_list,key_words_list):\n",
    "    w_8 = [i  for i in word_list if i in key_words_list]\n",
    "    w_2 = [i  for i in word_list if i not in key_words_list]\n",
    "        \n",
    "    if w_8 != [] and w_2 != []:\n",
    "        net_w = [(0.8/len(w_8)) if i in w_8 else (0.2/len(w_2)) for i in word_list ]\n",
    "    elif w_8 != []:\n",
    "        net_w = [(1/len(w_8)) for i in word_list]\n",
    "    elif w_2 != []:\n",
    "        net_w = [(1/len(w_2)) for i in word_list]\n",
    "    else:\n",
    "        net_w = None\n",
    "    return net_w"
   ]
  },
  {
   "cell_type": "code",
   "execution_count": 3,
   "metadata": {},
   "outputs": [],
   "source": [
    "def get_vector(word_list,model):\n",
    "    doc_vec = []\n",
    "    for word in word_list:\n",
    "        doc_vec.append(model[word])\n",
    "    return doc_vec"
   ]
  },
  {
   "cell_type": "code",
   "execution_count": 4,
   "metadata": {},
   "outputs": [],
   "source": [
    "def computer_wmd(text_vec,net_vec,text_w,net_w,vec_dim):\n",
    "    '''\n",
    "    计算WMD(识别文本-》net)\n",
    "    '''\n",
    "    matric_dist = 1 - cosine_similarity(np.array(text_vec),np.array(net_vec))\n",
    "    c = matric_dist.reshape(-1)\n",
    "    w = np.array(text_w+net_w)\n",
    "    \n",
    "    s1_len = len(text_vec)\n",
    "    s2_len = len(net_vec)\n",
    "    \n",
    "    res = []\n",
    "    for i in range(s1_len):\n",
    "        temp = np.zeros((s1_len,s2_len),dtype='float32')\n",
    "        temp[i:i+1,:] = 1\n",
    "        res.append(list(temp.reshape(-1)))\n",
    "\n",
    "    for i in range(s2_len):\n",
    "        temp = np.zeros((s1_len,s2_len),dtype='float32')\n",
    "        temp[:,i:i+1] = 1\n",
    "        res.append(list(temp.reshape(-1))) \n",
    "    return linprog(c,A_eq=res,b_eq=w)[\"fun\"]"
   ]
  }
 ],
 "metadata": {
  "kernelspec": {
   "display_name": "Python 3",
   "language": "python",
   "name": "python3"
  },
  "language_info": {
   "codemirror_mode": {
    "name": "ipython",
    "version": 3
   },
   "file_extension": ".py",
   "mimetype": "text/x-python",
   "name": "python",
   "nbconvert_exporter": "python",
   "pygments_lexer": "ipython3",
   "version": "3.7.1"
  }
 },
 "nbformat": 4,
 "nbformat_minor": 2
}
